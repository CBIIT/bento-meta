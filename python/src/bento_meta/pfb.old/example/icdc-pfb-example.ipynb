{
 "cells": [
  {
   "cell_type": "code",
   "execution_count": 1,
   "metadata": {
    "scrolled": true
   },
   "outputs": [
    {
     "name": "stdout",
     "output_type": "stream",
     "text": [
      "Requirement already satisfied: fastavro in /opt/anaconda3/lib/python3.7/site-packages (1.0.0.post1)\n",
      "Note: you may need to restart the kernel to use updated packages.\n"
     ]
    }
   ],
   "source": [
    "pip install fastavro"
   ]
  },
  {
   "cell_type": "markdown",
   "metadata": {},
   "source": [
    "# PFB Worked Example - ICDC\n",
    "\n",
    "This notebook continues [an introduction](https://github.com/CBIIT/bento-meta/tree/master/python/bento_meta/pfb#portable-format-for-bioinformatics) to the \"Portable Format for Bioinformatics\".\n",
    "\n",
    "Consider the following example. In the [Integrated Canine Data Commons (ICDC) model](https://cbiit.github.io/icdc-model-tool/), a subject of a study is called a _case_, and a case has the following properties (variable, slots for data) associated with it:\n",
    "\n",
    "    case:\n",
    "        Props:\n",
    "          - case_id\n",
    "          - patient_id\n",
    "          - patient_first_name\n",
    "\n",
    "(This and the following snippets of YAML are taken from the [model description files](https://github.com/CBIIT/bento-mdf) found at https://cbiit.github.io/icdc-model-tool/model-desc/.) The properties are defined in the model as follows (omitting human readable descriptions):\n",
    "\n",
    "    case_id:\n",
    "        Type: string\n",
    "        Req: true\n",
    "      patient_id:\n",
    "        Type: string\n",
    "        Req: true\n",
    "      patient_first_name:\n",
    "        Type: string\n",
    "\n",
    "(Patient first name is OK, because we're talking about dogs.)"
   ]
  },
  {
   "cell_type": "markdown",
   "metadata": {},
   "source": [
    "A case may have a number of other sets of related data. These are separate nodes in the graph,  associated with a specific case via relationships (links, edges). There are 14 such nodes, but only three of these are linked by outgoing (i.e. from case to node) relationships. The _cohort_ node is a simple example:\n",
    "\n",
    "    cohort:\n",
    "        Props:\n",
    "          - cohort_description\n",
    "          - cohort_dose\n",
    "\n",
    "Both properties have type ``string``. The relationship ``member_of`` indicates the association:\n",
    "\n",
    "    Relationships:\n",
    "      member_of:\n",
    "        Mul: many_to_one\n",
    "        Ends:\n",
    "          - Src: case\n",
    "            Dst: cohort\n",
    "\n",
    "Every node, regardless of type, also entails an internal _id_ field."
   ]
  },
  {
   "cell_type": "markdown",
   "metadata": {},
   "source": [
    "## Customizing the PFB schema \n",
    "\n",
    "Avro schemas that will encode the nodes _case_ and _cohort_ are straightforward enough. These are the User Data Types.\n",
    "\n",
    "    icdc_case_schema =\n",
    "\t\t{ \n",
    "          \"name\": \"case\",\n",
    "          \"type\": \"record\",\n",
    "\t\t  \"fields\": [\n",
    "\t\t\t{ \"name\": \"id\",\n",
    "\t\t\t  \"type\": \"string\" },\n",
    "\t\t\t{ \"name\": \"case_id\",\n",
    "\t\t\t  \"type\": \"string\" },\n",
    "\t\t\t{ \"name\": \"patient_id\",\n",
    "\t\t\t  \"type\" ; \"string\" },\n",
    "\t\t\t{ \"name\": \"patient_first_name\",\n",
    "\t\t\t  \"type\": \"string\" }\n",
    "\t\t  ]\n",
    "\t\t}\n",
    "\n",
    "    icdc_cohort_schema =\n",
    "\t\t{\n",
    "          \"name\": \"cohort\",\n",
    "          \"type\": \"record\",\n",
    "\t\t  \"fields\": [\n",
    "\t\t\t{ \"name\": \"id\",\n",
    "\t\t\t  \"type\": \"string\" },\n",
    "\t\t\t{ \"name\": \"cohort_description\",\n",
    "\t\t\t  \"type\": \"string\" },\n",
    "\t\t\t{ \"name\": \"cohort_dose\",\n",
    "\t\t\t  \"type\": \"string\" }\n",
    "\t\t  ]\n",
    "\t\t}\n",
    "\n",
    "These schemas need to be included in the ``Entity`` schema at the time the PFB message is created. \n",
    "\n",
    "In the next cell, we use [fastavro](https://fastavro.readthedocs.io/en/latest/schema.html) to read the PFB schemas that we've modularized into .avsc files, and appropriately place the custom schemas above into that structure.\n"
   ]
  },
  {
   "cell_type": "code",
   "execution_count": 2,
   "metadata": {},
   "outputs": [],
   "source": [
    "import fastavro\n",
    "from fastavro.schema import load_schema\n",
    "from fastavro.validation import validate\n",
    "from tempfile import NamedTemporaryFile\n",
    "\n",
    "import json\n",
    "import os\n",
    "\n",
    "# the following gyrations enable\n",
    "# * the PFB schema to be modularized with named types,\n",
    "# * the addition the custom data types to the pfb.Entity schema, and\n",
    "# * the recursive loading of the named type schemas by fastavro.\n",
    "\n",
    "pfb_schema = None\n",
    "tempf = None\n",
    "with open(\"pfb.Entity.avsc\",\"r\") as Entity:\n",
    "    # load Entity schema as simple json\n",
    "    pfb_schema_json = json.load( Entity )\n",
    "    # find the \"object\" hash \n",
    "    [object] = [ x for x in pfb_schema_json[\"fields\"] if x[\"name\"] == \"object\" ]\n",
    "    # add the custom schemas (as names) to the object.type array\n",
    "    object[\"type\"].extend([ \"icdc.case\", \"icdc.cohort\" ])\n",
    "    # dump json to a tempfile to take advantage of fastavro avsc \n",
    "    # name resolution in fastavro.schema.load_schema()\n",
    "    tempf = NamedTemporaryFile(mode=\"w+\",dir=\".\")\n",
    "    json.dump(pfb_schema_json,tempf)\n",
    "    tempf.seek(0)\n",
    "    # load the customized schema\n",
    "    pfb_schema = load_schema(tempf.name)\n",
    "    pass\n"
   ]
  },
  {
   "cell_type": "markdown",
   "metadata": {},
   "source": [
    "### Metadata schemas and links\n",
    "\n",
    "To encode these data nodes in PFB, we also must construct corresponding [``Node``](./pfb.Node.avsc) and [``Property``](./pfb.Property.avsc) metadata schemas. Example metadata schemas for ``case`` and ``cohort`` nodes are defined in the following cell. \n",
    "\n",
    "\n"
   ]
  },
  {
   "cell_type": "code",
   "execution_count": 3,
   "metadata": {},
   "outputs": [],
   "source": [
    "icdc_cohort_meta = { \n",
    "    \"name\": \"icdc.cohort\",\n",
    "    \"ontology_reference\": \"\",\n",
    "    \"values\": {},\n",
    "    \"links\":[],\n",
    "    \"properties\": [\n",
    "        { \n",
    "            \"name\": \"cohort_description\",\n",
    "            \"ontology_reference\": \"NCIT\",\n",
    "            \"values\": {\n",
    "                \"concept_code\": \"C166209\"\n",
    "                }\n",
    "        },\n",
    "        { \n",
    "            \"name\": \"cohort_dose\",\n",
    "            \"ontology_reference\": \"NCIT\",\n",
    "            \"values\": {\n",
    "                \"concept_code\": \"C166210\"\n",
    "                }\n",
    "        }\n",
    "    ]\n",
    "}\n",
    "\n",
    "icdc_case_meta = {\n",
    "    \"name\": \"icdc.case\",\n",
    "    \"ontology_reference\": \"\",\n",
    "    \"values\": {},\n",
    "    \"properties\": [\n",
    "        { \n",
    "            \"name\": \"case_id\",\n",
    "            \"ontology_reference\": \"NCIT\",\n",
    "            \"values\": {\n",
    "              \"concept_code\": \"C164324\"\n",
    "            }\n",
    "        },\n",
    "        { \n",
    "            \"name\": \"patient_id\",\n",
    "            \"ontology_reference\": \"NCIT\",\n",
    "            \"values\": {\n",
    "              \"concept_code\": \"C164337\"\n",
    "            }\n",
    "        }\n",
    "        ],\n",
    "        \"links\": [\n",
    "            {\n",
    "                \"name\": \"member_of\",\n",
    "                \"dst\": \"cohort\",\n",
    "                \"multiplicity\": \"MANY_TO_ONE\"\n",
    "            }\n",
    "        ]\n",
    "}"
   ]
  },
  {
   "cell_type": "markdown",
   "metadata": {},
   "source": [
    "Note these are _instances_ of the [``Node`` _schema_](./pfb.Node.avsc). The instances are Avro records (JSON objects), and have acceptable keys ``name``, ``ontology_reference``, ``values``, ``links``, and ``properties``.  \n",
    "\n",
    "The ``cohort`` as a node type does not have an external terminology reference as yet, so ``ontology_reference`` and ``values`` are present, but set to empty data entities. It does not have any outgoing links in the model, so ``links`` is also set to an empty array. ICDC properties are associated with NCI Thesaurus codes, so these are provided in the ``properties`` schemas.\n",
    "\n",
    "The ``case`` node schema uses a ``links`` specification to indicate that a case can be a member of a cohort. We take advantage of this below."
   ]
  },
  {
   "cell_type": "markdown",
   "metadata": {},
   "source": [
    "Are these two schemas valid -- correct -- within PFB? We can check by asking fastavro to validate a Metadata schema that includes these two Node schemas:"
   ]
  },
  {
   "cell_type": "code",
   "execution_count": 4,
   "metadata": {},
   "outputs": [
    {
     "name": "stdout",
     "output_type": "stream",
     "text": [
      "Valid!\n"
     ]
    }
   ],
   "source": [
    "if validate( {\n",
    "    \"name\":\"Metadata\",\n",
    "    \"misc\":{},\n",
    "    \"nodes\": [\n",
    "        icdc_case_meta,\n",
    "        icdc_cohort_meta\n",
    "    ]}, pfb_schema):\n",
    "    print(\"Valid!\")\n",
    "else:\n",
    "    print(\"INVALID\")    "
   ]
  },
  {
   "cell_type": "markdown",
   "metadata": {},
   "source": [
    "## Data for PFB Message\n",
    "\n",
    "Now, we set up actual data to be encoded in a PFB message. This will be a ``case`` node instance, with values for its properties, and a similar ``cohort`` node instance, as well as the information that links the case to the cohort.\n",
    "\n",
    "Each node instance needs to be wrapped in a PFB [``Entity`` schema](./pfb.Entity.avsc). The next code cell steps through these constructs, validating each step."
   ]
  },
  {
   "cell_type": "code",
   "execution_count": 5,
   "metadata": {},
   "outputs": [
    {
     "name": "stdout",
     "output_type": "stream",
     "text": [
      "Valid!\n",
      "Valid!\n",
      "Valid!\n",
      "Valid!\n"
     ]
    }
   ],
   "source": [
    "# data for PFB message:\n",
    "\n",
    "# cohort_data\n",
    "cohort_data = {\n",
    "    \"id\": \"n201\",\n",
    "    \"cohort_description\": \"arm1\",\n",
    "    \"cohort_dose\": \"10mg/kg\"\n",
    "}\n",
    "\n",
    "if validate( (\"icdc.cohort\", cohort_data), pfb_schema ):\n",
    "    print(\"Valid!\")\n",
    "else:\n",
    "    print(\"INVALID\")\n",
    "\n",
    "# case data\n",
    "case_data = {\n",
    "    \"id\": \"n101\",\n",
    "    \"case_id\": \"UBC01-007\",\n",
    "    \"patient_id\": \"007\",\n",
    "    \"patient_first_name\": \"Fluffy\"\n",
    "}    \n",
    "\n",
    "if validate( (\"icdc.case\", case_data), pfb_schema ):\n",
    "    print(\"Valid!\")\n",
    "else:\n",
    "    print(\"INVALID\")\n",
    "\n",
    "link = {\n",
    "    \"dst_name\": \"icdc.cohort\",\n",
    "    \"dst_id\": \"n201\"\n",
    "}\n",
    "\n",
    "# case_data wrapped in pfb.Entity\n",
    "case_data_entity = {\n",
    "    \"name\": \"icdc.case\",\n",
    "    \"id\": \"n101\",\n",
    "    \"object\": case_data,\n",
    "    \"relations\": [ link ]\n",
    "}\n",
    "\n",
    "if validate( (\"pfb.Entity\", case_data_entity), pfb_schema ):\n",
    "    print (\"Valid!\")\n",
    "else:\n",
    "    print (\"INVALID\")\n",
    "\n",
    "# cohort_data wrapped in pfb.Entity\n",
    "cohort_data_entity = {\n",
    "    \"name\":\"icdc.cohort\",\n",
    "    \"id\": \"n201\",\n",
    "    \"object\": cohort_data,\n",
    "    \"relations\":[]\n",
    "}\n",
    "\n",
    "if validate( (\"pfb.Entity\", cohort_data_entity), pfb_schema ):\n",
    "    print(\"Valid!\")\n",
    "else:\n",
    "    print(\"INVALID\")"
   ]
  },
  {
   "cell_type": "markdown",
   "metadata": {},
   "source": [
    "## Create PFB Payload and PFB Message\n",
    "\n",
    "We have built all the components for the PFB message. Now we can bring them together in an array to provide to ``fastavro.writer``, along with the PFB schema, to render the message to a binary file.\n",
    "\n",
    "The payload consists of a Metadata instance (which describe the case and cohort semantic information, see above), the Entity instance containing the cohort data, and the Entity instance containing the case data. "
   ]
  },
  {
   "cell_type": "code",
   "execution_count": 6,
   "metadata": {},
   "outputs": [],
   "source": [
    "payload = [\n",
    "      { \n",
    "        \"name\": \"Metadata\",\n",
    "        \"object\": {\n",
    "            \"name\": \"pfb.Metadata\",\n",
    "            \"misc\": {},\n",
    "            \"nodes\": [\n",
    "                icdc_cohort_meta,\n",
    "                icdc_case_meta\n",
    "            ]\n",
    "        }\n",
    "      },\n",
    "      cohort_data_entity,\n",
    "      case_data_entity\n",
    "    ]"
   ]
  },
  {
   "cell_type": "markdown",
   "metadata": {},
   "source": [
    "Now, a call to ``fastavro.writer`` creates the message."
   ]
  },
  {
   "cell_type": "code",
   "execution_count": 7,
   "metadata": {},
   "outputs": [],
   "source": [
    "with open(\"worked-example.avro\",\"wb\") as out:\n",
    "    fastavro.writer(out, pfb_schema, payload)"
   ]
  },
  {
   "cell_type": "markdown",
   "metadata": {},
   "source": [
    "We can read back this message and check whether the records we sent are correctly reconstituted."
   ]
  },
  {
   "cell_type": "code",
   "execution_count": 8,
   "metadata": {
    "scrolled": true
   },
   "outputs": [
    {
     "name": "stdout",
     "output_type": "stream",
     "text": [
      "{'id': None, 'name': 'Metadata', 'object': {'nodes': [{'name': 'icdc.cohort', 'ontology_reference': '', 'values': {}, 'links': [], 'properties': [{'name': 'cohort_description', 'ontology_reference': 'NCIT', 'values': {'concept_code': 'C166209'}}, {'name': 'cohort_dose', 'ontology_reference': 'NCIT', 'values': {'concept_code': 'C166210'}}]}, {'name': 'icdc.case', 'ontology_reference': '', 'values': {}, 'links': [{'multiplicity': 'MANY_TO_ONE', 'dst': 'cohort', 'name': 'member_of'}], 'properties': [{'name': 'case_id', 'ontology_reference': 'NCIT', 'values': {'concept_code': 'C164324'}}, {'name': 'patient_id', 'ontology_reference': 'NCIT', 'values': {'concept_code': 'C164337'}}]}], 'misc': {}}, 'relations': []}\n",
      "\n",
      "{'id': 'n201', 'name': 'icdc.cohort', 'object': {'id': 'n201', 'cohort_description': 'arm1', 'cohort_dose': '10mg/kg'}, 'relations': []}\n",
      "\n",
      "{'id': 'n101', 'name': 'icdc.case', 'object': {'id': 'n101', 'case_id': 'UBC01-007', 'patient_id': '007', 'patient_first_name': 'Fluffy'}, 'relations': [{'dst_id': 'n201', 'dst_name': 'icdc.cohort'}]}\n",
      "\n"
     ]
    }
   ],
   "source": [
    "with open(\"worked-example.avro\",\"rb\") as inf:\n",
    "    rdr = fastavro.reader(inf)\n",
    "    for rec in rdr:\n",
    "        print(rec)\n",
    "        print()"
   ]
  },
  {
   "cell_type": "code",
   "execution_count": 9,
   "metadata": {},
   "outputs": [],
   "source": [
    "os.remove(tempf.name)"
   ]
  },
  {
   "cell_type": "code",
   "execution_count": null,
   "metadata": {},
   "outputs": [],
   "source": []
  }
 ],
 "metadata": {
  "kernelspec": {
   "display_name": "Python 3",
   "language": "python",
   "name": "python3"
  },
  "language_info": {
   "codemirror_mode": {
    "name": "ipython",
    "version": 3
   },
   "file_extension": ".py",
   "mimetype": "text/x-python",
   "name": "python",
   "nbconvert_exporter": "python",
   "pygments_lexer": "ipython3",
   "version": "3.7.4"
  }
 },
 "nbformat": 4,
 "nbformat_minor": 2
}
